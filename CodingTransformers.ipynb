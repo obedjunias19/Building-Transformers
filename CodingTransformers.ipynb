{
  "nbformat": 4,
  "nbformat_minor": 0,
  "metadata": {
    "colab": {
      "provenance": [],
      "authorship_tag": "ABX9TyMEe5j3VZemUnGUy3iaklGG"
    },
    "kernelspec": {
      "name": "python3",
      "display_name": "Python 3"
    },
    "language_info": {
      "name": "python"
    }
  },
  "cells": [
    {
      "cell_type": "code",
      "execution_count": 2,
      "metadata": {
        "id": "2OTver4J5Ol2"
      },
      "outputs": [],
      "source": [
        "import torch\n",
        "import torch.nn as nn\n",
        "import numpy as np"
      ]
    },
    {
      "cell_type": "code",
      "source": [
        "class InputEmbedding(nn.Module):\n",
        "\n",
        "    def __init__(self,d_model: int, vocab_size:int):\n",
        "        super().__init__()\n",
        "        self.d_model = d_model\n",
        "        self.vocab_size = vocab_size\n",
        "        self.embedding = nn.Embedding(vocab_size,d_model)\n",
        "\n",
        "\n",
        "    def forward(self,x):\n",
        "        return self.embedding(x) * np.sqrt(self.d_model)\n"
      ],
      "metadata": {
        "id": "yGR-XWEfPc7z"
      },
      "execution_count": null,
      "outputs": []
    },
    {
      "cell_type": "code",
      "source": [
        "inp = InputEmbedding(3,5)"
      ],
      "metadata": {
        "id": "Ghjv4UwuQNVe"
      },
      "execution_count": null,
      "outputs": []
    },
    {
      "cell_type": "code",
      "source": [
        "input_indices = torch.tensor([1, 4])\n",
        "\n",
        "output = inp(input_indices)\n",
        "print(\"Output Embedding: \\n\", output)"
      ],
      "metadata": {
        "colab": {
          "base_uri": "https://localhost:8080/"
        },
        "id": "akZAYPZaQjev",
        "outputId": "856c3ccd-254f-4dc8-e4d8-ecafe089dfa7"
      },
      "execution_count": null,
      "outputs": [
        {
          "output_type": "stream",
          "name": "stdout",
          "text": [
            "Output Embedding: \n",
            " tensor([[-2.1684, -0.9900,  0.2864],\n",
            "        [ 0.1355, -0.8526,  2.6743]], grad_fn=<MulBackward0>)\n"
          ]
        }
      ]
    },
    {
      "cell_type": "code",
      "source": [
        "class PositionalEncoding(nn.Module):\n",
        "    def __init__(self, d_model: int, seq_len: int, dropout: float) -> None:\n",
        "        super().__init__()\n",
        "        self.d_model = d_model\n",
        "        self.seq_len = seq_len\n",
        "        self.dropout = nn.Dropout(dropout)\n",
        "\n",
        "        pe = torch.zeros(seq_len, d_model)\n",
        "        position = torch.arange(0,seq_len, dtype=torch.float).unsqueeze(1)\n",
        "        deno = torch.exp(torch.arange(0,d_model,2).float() * (-np.log(10000.0) /  d_model))\n"
      ],
      "metadata": {
        "id": "s_9fxzd9QkHk"
      },
      "execution_count": null,
      "outputs": []
    },
    {
      "cell_type": "code",
      "source": [
        "position = torch.arange(0,5, dtype=torch.float)\n",
        "position"
      ],
      "metadata": {
        "colab": {
          "base_uri": "https://localhost:8080/"
        },
        "id": "USRA_3fDT8mY",
        "outputId": "4fe2e2b4-868a-4090-dee4-0972fb61c239"
      },
      "execution_count": null,
      "outputs": [
        {
          "output_type": "execute_result",
          "data": {
            "text/plain": [
              "tensor([0., 1., 2., 3., 4.])"
            ]
          },
          "metadata": {},
          "execution_count": 20
        }
      ]
    },
    {
      "cell_type": "code",
      "source": [
        "position.unsqueeze(1)"
      ],
      "metadata": {
        "colab": {
          "base_uri": "https://localhost:8080/"
        },
        "id": "bKZT8jcmT_ht",
        "outputId": "258c75c4-9a18-4ed5-a70a-d6d48ac9a2ea"
      },
      "execution_count": null,
      "outputs": [
        {
          "output_type": "execute_result",
          "data": {
            "text/plain": [
              "tensor([[0.],\n",
              "        [1.],\n",
              "        [2.],\n",
              "        [3.],\n",
              "        [4.]])"
            ]
          },
          "metadata": {},
          "execution_count": 21
        }
      ]
    },
    {
      "cell_type": "code",
      "source": [],
      "metadata": {
        "id": "pwDH2_qJUCUu"
      },
      "execution_count": null,
      "outputs": []
    },
    {
      "cell_type": "code",
      "source": [
        "class LayerNormalization(nn.Module):\n",
        "    def __init__(self, eps: float = 10**-6) -> float:\n",
        "        super().__init()\n",
        "        self.eps = eps\n",
        "        self.alpha = nn.Parameter(torch.ones(1))\n",
        "        self.bias = nn.Parameter(torch.zeros(1))\n",
        "\n",
        "    def forward(self,x):\n",
        "        mean = x.mean(dim = -1, keepdim = True)\n",
        "        std = x.std(dim = -1, keepdim = True)\n",
        "        return self.alpha * (x - mean) / (std + self.eps) + self.bias\n",
        "\n"
      ],
      "metadata": {
        "id": "cNW-V9CFUPJl"
      },
      "execution_count": null,
      "outputs": []
    },
    {
      "cell_type": "code",
      "source": [
        "class FeedForwardBlock(nn.Module):\n",
        "    def __init__(self, d_model: int, d_ff: int, dropout: float) -> None:\n",
        "        super().init()\n",
        "        self.linear_1 = nn.Linear(d_model, d_ff)\n",
        "        self.dropout = nn.Dropout(dropout)\n",
        "        self.linear_2 = nn.Linear(d_ff,d_model)\n",
        "\n",
        "\n",
        "    def forward(self, x):\n",
        "        return self.linear_2(self.dropout(torch.relu(self.linear_1(x))))"
      ],
      "metadata": {
        "id": "QM205CzrWK2A"
      },
      "execution_count": 3,
      "outputs": []
    },
    {
      "cell_type": "code",
      "source": [
        "class MultiHeadAttentionBlock(nn.Module):\n",
        "    def __init__(self, d_model: int, h: int, dropout: float) -> None:\n",
        "        super().__init__()\n",
        "        self.d_model = d_model\n",
        "        self.h = h\n",
        "        assert d_model % h == 0\n",
        "\n",
        "        self.d_k = d_model // h\n",
        "        self.w_q = nn.Linear(d_model, d_model)\n",
        "        self.w_k = nn.Linear(d_model, d_model)\n",
        "        self.w_v = nn.Linear(d_model, d_model)\n",
        "\n",
        "        self.w_o = nn.Linear(h * self.d_k , d_model)\n",
        "        self.dropout = nn.Dropout(dropout)\n",
        "\n",
        "    @staticmethod\n",
        "    def attention(query, key, values, mask, dropout: nn.Dropout):\n",
        "        d_k = query.shape[-1]\n",
        "\n",
        "        attention_scores = (query @ key.transpose(-2, -1)) / np.sqrt(d_k)\n",
        "        if mask is not None:\n",
        "            attention_scores.masked_fill_(mask == 0, -1e9)\n",
        "\n",
        "        attention_scores = attention_scores.softmax(dim = -1)\n",
        "\n",
        "        if dropout is not None:\n",
        "            attention_scores = dropout(attention_scores)\n",
        "\n",
        "        return (attention_scores @ values), attention_scores\n",
        "\n",
        "\n",
        "\n",
        "    def forward(self, q,k,v, mask):\n",
        "        query = self.w_q(q)\n",
        "        key = self.w_k(k)\n",
        "        values = self.w_v(v)\n",
        "\n",
        "        query = query.view(query.shape[0],query.shape[1], self.h, self.d_k).transpose(1,2)\n",
        "        key = key.view(key.shape[0],key.shape[1], self.h, self.d_k).transpose(1,2)\n",
        "        values = values.view(values.shape[0], values.shape[1], self.h, self.d_k).transpose(1,2)\n",
        "\n",
        "\n",
        "        x, self.attention_scores = MultiHeadAttentionBlock(query, key, values, self.dropout)\n",
        "\n",
        "        x = x.transpose(1,2).contiguous.view(x.shape[0], x.shape[1],self.h * self.d_k)\n",
        "\n",
        "        return self.w_o(x)\n",
        "\n"
      ],
      "metadata": {
        "id": "UIYyZRKpeT95"
      },
      "execution_count": 22,
      "outputs": []
    },
    {
      "cell_type": "code",
      "source": [
        "class ResidualConnection(nn.Module):\n",
        "    def __init__(self,dropout : float) -> None:\n",
        "        super().__init__()\n",
        "        self.dropout = nn.Dropout(dropout)\n",
        "        self.norm = LayerNormalization()\n",
        "\n",
        "    def forward(self, x, sublayer):\n",
        "        # return x + self.dropout(sublayer(self.norm(x)))\n"
      ],
      "metadata": {
        "id": "pyWz9y60nnPA"
      },
      "execution_count": null,
      "outputs": []
    },
    {
      "cell_type": "code",
      "source": [
        "class EncoderBlock(nn.Module):\n",
        "    def __init__(self, self_attention_block: MultiHeadAttentionBlock, feed_forward_block: FeedForwardBlock, dropout: float) -> None:\n",
        "        super().__init__()\n",
        "        self.self_attention_block = self_attention_block\n",
        "        self.feed_forward_block = feed_forward_block\n",
        "        self.dropout = nn.Dropout(dropout)\n",
        "        self.residual_connections = nn.ModuleList((ResidualConnection(dropout) for _ in range(2)))\n",
        "\n",
        "    def forward(self, x, src_mask):\n",
        "        x = self.residual_connections[0](x, lambda x: self.self_attention_block(x,x,x, src_mask))\n",
        "        x = self.residual_connections[1](x, self.feed_forward_block)\n",
        "\n",
        "        return x\n"
      ],
      "metadata": {
        "id": "JoBZ713Toj7B"
      },
      "execution_count": 23,
      "outputs": []
    },
    {
      "cell_type": "code",
      "source": [],
      "metadata": {
        "id": "Z2F5uxc-vup6"
      },
      "execution_count": null,
      "outputs": []
    }
  ]
}